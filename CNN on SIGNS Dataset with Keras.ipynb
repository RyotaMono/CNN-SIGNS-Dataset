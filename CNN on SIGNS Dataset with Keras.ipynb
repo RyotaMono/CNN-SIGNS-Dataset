{
 "cells": [
  {
   "cell_type": "code",
   "execution_count": 1,
   "metadata": {
    "_cell_guid": "f67b9393-8ea1-4e23-b856-2ce149cfe421",
    "_execution_state": "idle",
    "_uuid": "72334cb006d02a4bcfc2a2fe622524eba824c6f8"
   },
   "outputs": [
    {
     "name": "stderr",
     "output_type": "stream",
     "text": [
      "/home/yunhao/anaconda3/lib/python3.6/site-packages/h5py/__init__.py:36: FutureWarning: Conversion of the second argument of issubdtype from `float` to `np.floating` is deprecated. In future, it will be treated as `np.float64 == np.dtype(float).type`.\n",
      "  from ._conv import register_converters as _register_converters\n",
      "Using TensorFlow backend.\n"
     ]
    }
   ],
   "source": [
    "import pandas as pd\n",
    "import numpy as np\n",
    "import matplotlib.pyplot as plt\n",
    "import matplotlib.image as mpimg\n",
    "import seaborn as sns\n",
    "import keras\n",
    "import h5py\n",
    "\n",
    "%matplotlib inline\n",
    "\n",
    "# np.random.seed(2)\n",
    "\n",
    "from sklearn.model_selection import train_test_split\n",
    "from sklearn.metrics import confusion_matrix\n",
    "import itertools\n",
    "\n",
    "from keras import regularizers\n",
    "from keras.utils.io_utils import HDF5Matrix\n",
    "from keras.utils.np_utils import to_categorical # convert to one-hot-encoding\n",
    "from keras.models import Sequential\n",
    "from keras.layers import Dense, Dropout, Flatten, Conv2D, MaxPool2D, BatchNormalization\n",
    "from keras.optimizers import *\n",
    "from keras.preprocessing.image import ImageDataGenerator\n",
    "from keras.callbacks import ReduceLROnPlateau\n",
    "from keras.utils.training_utils import multi_gpu_model\n",
    "\n",
    "\n",
    "sns.set(style='white', context='notebook', palette='deep')"
   ]
  },
  {
   "cell_type": "code",
   "execution_count": 30,
   "metadata": {},
   "outputs": [],
   "source": [
    "# Credit to DeepLearning.AI Course Staff\n",
    "\n",
    "def load_dataset():\n",
    "    train_dataset = h5py.File('datasets/train_signs.h5', \"r\")\n",
    "    train_set_x_orig = np.array(train_dataset[\"train_set_x\"][:]) # your train set features\n",
    "    train_set_y_orig = np.array(train_dataset[\"train_set_y\"][:]) # your train set labels\n",
    "\n",
    "    test_dataset = h5py.File('datasets/test_signs.h5', \"r\")\n",
    "    test_set_x_orig = np.array(test_dataset[\"test_set_x\"][:]) # your test set features\n",
    "    test_set_y_orig = np.array(test_dataset[\"test_set_y\"][:]) # your test set labels\n",
    "\n",
    "    classes = np.array(test_dataset[\"list_classes\"][:]) # the list of classes\n",
    "    \n",
    "    train_set_y_orig = train_set_y_orig.reshape((1, train_set_y_orig.shape[0]))\n",
    "    test_set_y_orig = test_set_y_orig.reshape((1, test_set_y_orig.shape[0]))\n",
    "    \n",
    "    return train_set_x_orig, train_set_y_orig, test_set_x_orig, test_set_y_orig, classes\n",
    "\n",
    "X_train, Y_train, X_test, Y_test, classes = load_dataset()"
   ]
  },
  {
   "cell_type": "code",
   "execution_count": 3,
   "metadata": {
    "_cell_guid": "cdc4340b-6e24-4e12-be99-ac806098ff17",
    "_execution_state": "idle",
    "_uuid": "b5d4f8fcf2a967e2c7d57daedf95aa8c5ab7f8cb"
   },
   "outputs": [],
   "source": [
    "# Normalize the data\n",
    "X_train = X_train / 255.0\n",
    "X_test = X_test / 255.0"
   ]
  },
  {
   "cell_type": "code",
   "execution_count": 4,
   "metadata": {},
   "outputs": [
    {
     "name": "stdout",
     "output_type": "stream",
     "text": [
      "(1080, 64, 64, 3)\n",
      "(120, 64, 64, 3)\n",
      "(1, 1080)\n",
      "(1, 120)\n"
     ]
    }
   ],
   "source": [
    "print(X_train.shape)\n",
    "print(X_test.shape)\n",
    "print(Y_train.shape)\n",
    "print(Y_test.shape)"
   ]
  },
  {
   "cell_type": "code",
   "execution_count": 5,
   "metadata": {
    "_cell_guid": "4b7f3e78-44dc-4561-b1f0-9429ee024cf4",
    "_execution_state": "idle",
    "_uuid": "cabefd1478d5c1bdfe57fd6a34395340916a854c"
   },
   "outputs": [],
   "source": [
    "Y_train = to_categorical(Y_train, num_classes = 6)\n",
    "Y_test = to_categorical(Y_test, num_classes = 6)"
   ]
  },
  {
   "cell_type": "code",
   "execution_count": 6,
   "metadata": {},
   "outputs": [
    {
     "name": "stdout",
     "output_type": "stream",
     "text": [
      "(1080, 6)\n",
      "(120, 6)\n"
     ]
    }
   ],
   "source": [
    "Y_train = Y_train[0]\n",
    "Y_test = Y_test[0]\n",
    "print(Y_train.shape)\n",
    "print(Y_test.shape)"
   ]
  },
  {
   "cell_type": "code",
   "execution_count": 9,
   "metadata": {
    "_cell_guid": "5f76131b-4ba0-45f1-a98c-bd4e7d561793",
    "_execution_state": "idle",
    "_uuid": "e0dae8943d3d35f075dba3d7ba31bde1d4bf2ff4"
   },
   "outputs": [
    {
     "data": {
      "image/png": "[encoded data removed]",
      "text/plain": [
       "<Figure size 432x288 with 1 Axes>"
      ]
     },
     "metadata": {},
     "output_type": "display_data"
    }
   ],
   "source": [
    "# Some examples\n",
    "g = plt.imshow(X_train[0][:,:,0])"
   ]
  },
  {
   "cell_type": "code",
   "execution_count": 10,
   "metadata": {
    "_cell_guid": "1e0f3f88-2ad7-459e-8e02-aecc5f3511ae",
    "_execution_state": "idle",
    "_uuid": "f7991ef6871a26f9fa57acdcd460a69bab53e804"
   },
   "outputs": [],
   "source": [
    "# v1\n",
    "# A good model used on MNIST dataset\n",
    "\n",
    "model = Sequential()\n",
    "\n",
    "model.add(Conv2D(filters = 32, kernel_size = (5, 5), padding = 'Same', \n",
    "                 activation ='relu', input_shape = (64, 64, 3)))\n",
    "model.add(Conv2D(filters = 32, kernel_size = (5, 5), padding = 'Same', \n",
    "                 activation ='relu'))\n",
    "model.add(MaxPool2D(pool_size=(2, 2), padding='valid'))\n",
    "model.add(BatchNormalization(axis=1, momentum=0.99, epsilon=0.001))\n",
    "model.add(Dropout(0.30))\n",
    "\n",
    "model.add(Conv2D(filters = 64, kernel_size = (3, 3), padding = 'Same', \n",
    "                 activation ='relu'))\n",
    "model.add(Conv2D(filters = 64, kernel_size = (3, 3), padding = 'Same', \n",
    "                 activation ='relu'))\n",
    "model.add(MaxPool2D(pool_size=(2, 2), padding='valid'))\n",
    "model.add(BatchNormalization(axis=1, momentum=0.99, epsilon=0.001))\n",
    "model.add(Dropout(0.30))\n",
    "\n",
    "model.add(Conv2D(filters = 128, kernel_size = (3, 3), padding = 'Same', \n",
    "                 activation ='relu'))\n",
    "model.add(Conv2D(filters = 128, kernel_size = (3, 3), padding = 'Same', \n",
    "                 activation ='relu'))\n",
    "model.add(MaxPool2D(pool_size=(2, 2), padding='same'))\n",
    "model.add(BatchNormalization(axis=1, momentum=0.99, epsilon=0.001))\n",
    "model.add(Dropout(0.30))\n",
    "\n",
    "\n",
    "model.add(Flatten())\n",
    "\n",
    "model.add(Dense(1024, activation = \"relu\"))\n",
    "model.add(BatchNormalization(axis=1, momentum=0.99, epsilon=0.001))\n",
    "model.add(Dropout(0.30))\n",
    "\n",
    "model.add(Dense(256, activation = \"relu\"))\n",
    "model.add(BatchNormalization(axis=1, momentum=0.99, epsilon=0.001))\n",
    "model.add(Dropout(0.30))\n",
    "\n",
    "model.add(Dense(6, activation = \"softmax\"))"
   ]
  },
  {
   "cell_type": "code",
   "execution_count": 11,
   "metadata": {},
   "outputs": [],
   "source": [
    "# v2 \n",
    "# Regularization(both L1 and L2 ) and Dropout performance very badly in this task.\n",
    "# We choose to implement data augmentation. \n",
    "\n",
    "model = Sequential()\n",
    "\n",
    "model.add(Conv2D(filters = 64, kernel_size = (4, 4), padding = 'Same', \n",
    "                 activation ='relu', input_shape = (64, 64, 3)))\n",
    "model.add(Conv2D(filters = 64, kernel_size = (2, 2), padding = 'Same', \n",
    "                 activation ='relu'))\n",
    "model.add(MaxPool2D(pool_size=(4, 4), strides=(8, 8), padding='valid'))\n",
    "# model.add(Dropout(0.1))  \n",
    "\n",
    "model.add(Conv2D(filters = 128, kernel_size = (2, 2), padding = 'Same', \n",
    "                 activation ='relu'))\n",
    "model.add(Conv2D(filters = 128, kernel_size = (2, 2), padding = 'Same', \n",
    "                 activation ='relu'))\n",
    "model.add(MaxPool2D(pool_size=(4, 4), strides=(4, 4), padding='same'))\n",
    "# model.add(Dropout(0.1))\n",
    "\n",
    "\n",
    "model.add(Flatten())\n",
    "\n",
    "model.add(Dense(256, activation = \"relu\"))\n",
    "#model.add(Dropout(0.1))\n",
    "\n",
    "model.add(Dense(6, activation = \"softmax\"))"
   ]
  },
  {
   "cell_type": "code",
   "execution_count": 31,
   "metadata": {
    "_cell_guid": "1e0f3f88-2ad7-459e-8e02-aecc5f3511ae",
    "_execution_state": "idle",
    "_uuid": "f7991ef6871a26f9fa57acdcd460a69bab53e804"
   },
   "outputs": [],
   "source": [
    "# v3 Final\n",
    "\n",
    "model = Sequential()\n",
    "\n",
    "model.add(Conv2D(filters = 64, kernel_size = (4, 4), padding = 'Same', \n",
    "                 activation ='relu', input_shape = (64, 64, 3)))\n",
    "model.add(Conv2D(filters = 64, kernel_size = (4, 4), padding = 'Same', \n",
    "                 activation ='relu'))\n",
    "model.add(MaxPool2D(pool_size=(4, 4), strides=(8, 8), padding='valid'))\n",
    "# model.add(Dropout(0.1))\n",
    "\n",
    "model.add(Conv2D(filters = 128, kernel_size = (2, 2), padding = 'Same', \n",
    "                 activation ='relu'))\n",
    "model.add(Conv2D(filters = 128, kernel_size = (2, 2), padding = 'Same', \n",
    "                 activation ='relu'))\n",
    "model.add(MaxPool2D(pool_size=(4, 4), strides=(4, 4), padding='same'))\n",
    "# model.add(Dropout(0.1))\n",
    "\n",
    "\n",
    "model.add(Flatten())\n",
    "\n",
    "model.add(Dense(256, activation = \"relu\"))\n",
    "#model.add(Dropout(0.1))\n",
    "\n",
    "model.add(Dense(6, activation = \"softmax\"))"
   ]
  },
  {
   "cell_type": "code",
   "execution_count": 13,
   "metadata": {},
   "outputs": [
    {
     "name": "stdout",
     "output_type": "stream",
     "text": [
      "_________________________________________________________________\n",
      "Layer (type)                 Output Shape              Param #   \n",
      "=================================================================\n",
      "conv2d_11 (Conv2D)           (None, 64, 64, 64)        3136      \n",
      "_________________________________________________________________\n",
      "conv2d_12 (Conv2D)           (None, 64, 64, 64)        65600     \n",
      "_________________________________________________________________\n",
      "max_pooling2d_6 (MaxPooling2 (None, 8, 8, 64)          0         \n",
      "_________________________________________________________________\n",
      "conv2d_13 (Conv2D)           (None, 8, 8, 128)         32896     \n",
      "_________________________________________________________________\n",
      "conv2d_14 (Conv2D)           (None, 8, 8, 128)         65664     \n",
      "_________________________________________________________________\n",
      "max_pooling2d_7 (MaxPooling2 (None, 2, 2, 128)         0         \n",
      "_________________________________________________________________\n",
      "flatten_3 (Flatten)          (None, 512)               0         \n",
      "_________________________________________________________________\n",
      "dense_6 (Dense)              (None, 256)               131328    \n",
      "_________________________________________________________________\n",
      "dense_7 (Dense)              (None, 6)                 1542      \n",
      "=================================================================\n",
      "Total params: 300,166\n",
      "Trainable params: 300,166\n",
      "Non-trainable params: 0\n",
      "_________________________________________________________________\n"
     ]
    }
   ],
   "source": [
    "model.summary()"
   ]
  },
  {
   "cell_type": "code",
   "execution_count": 21,
   "metadata": {
    "_cell_guid": "a4c55409-6a65-400a-b5e8-a1dc535429c0",
    "_execution_state": "idle",
    "_uuid": "420c704367b397b8255fefe9d882b35ac8929b95"
   },
   "outputs": [],
   "source": [
    "# optimizer = RMSprop(lr=2e-3, rho=0.9, epsilon=1e-08, decay=0.02)\n",
    "# optimizer = Adagrad(lr=0.001, epsilon=None, decay=0.0)\n",
    "optimizer = Adam(lr=0.005, beta_1=0.9, beta_2=0.999, epsilon=1e-08, \n",
    "                 decay=0.02, amsgrad=False)\n",
    "\n",
    "learning_rate_reduction = ReduceLROnPlateau(monitor='val_acc', \n",
    "                                            patience=3, \n",
    "                                            verbose=1, \n",
    "                                            factor=0.5, \n",
    "                                            min_lr=1e-4)"
   ]
  },
  {
   "cell_type": "markdown",
   "metadata": {},
   "source": [
    "Instead of using regularization on CNN models, We synthesis more train images by zooming and shifting."
   ]
  },
  {
   "cell_type": "code",
   "execution_count": 22,
   "metadata": {
    "_cell_guid": "b342befe-1a6f-44bf-8dab-28033a729122",
    "_execution_state": "idle",
    "_uuid": "21d6192c87d92d497c797656474bccd9cefc5647"
   },
   "outputs": [],
   "source": [
    "# datagen = ImageDataGenerator(\n",
    "#         rotation_range=60,  \n",
    "#         zoom_range=0.5,\n",
    "#         width_shift_range=0.2,  \n",
    "#         height_shift_range=0.2)\n",
    "\n",
    "datagen = ImageDataGenerator(\n",
    "        rotation_range=15,  \n",
    "        zoom_range=0.1,\n",
    "        width_shift_range=0.1,  \n",
    "        height_shift_range=0.1)\n",
    "\n",
    "datagen.fit(X_train)"
   ]
  },
  {
   "cell_type": "markdown",
   "metadata": {},
   "source": [
    "    v2, zoom_range=0.1\n",
    "     - 23s - loss: 0.0267 - acc: 0.9963 - val_loss: 0.2377 - val_acc: 0.9500\n",
    "    v2, zoom_range=0.1, width_shift_range=0.1, height_shift_range=0.1\n",
    "     - 23s - loss: 0.3041 - acc: 0.8956 - val_loss: 0.1802 - val_acc: 0.9417\n",
    "    v2, rotation_range=15, zoom_range=0.1, width_shift_range=0.1, height_shift_range=0.1, batch_size = 4096\n",
    "     - 10s - loss: 0.2163 - acc: 0.9321 - val_loss: 0.1476 - val_acc: 0.9750\n",
    "    v3, rotation_range=15, zoom_range=0.1, width_shift_range=0.1, height_shift_range=0.1, batch_size = 3072\n",
    "     - 13s - loss: 0.0684 - acc: 0.9802 - val_loss: 0.0375 - val_acc: 0.9917"
   ]
  },
  {
   "cell_type": "code",
   "execution_count": 23,
   "metadata": {
    "_cell_guid": "0bd89b79-1a74-40da-af9a-7a76a8b96ff2",
    "_execution_state": "idle",
    "_uuid": "b4c0288622227a3cd05479aa765e324dbb852f34"
   },
   "outputs": [],
   "source": [
    "# Compile the model\n",
    "# model = multi_gpu_model(model, gpus=2) # Uncomment this line if you have multiple GPUs\n",
    "model.compile(optimizer = optimizer , loss = \"categorical_crossentropy\", metrics=[\"accuracy\"])"
   ]
  },
  {
   "cell_type": "code",
   "execution_count": 24,
   "metadata": {
    "_cell_guid": "b453af8d-9736-43e3-b486-7a1cd7dd8909",
    "_execution_state": "idle",
    "_uuid": "cf36b3d029f95b553be02d612e097a9769ee8252",
    "scrolled": false
   },
   "outputs": [
    {
     "name": "stdout",
     "output_type": "stream",
     "text": [
      "Epoch 1/30\n",
      " - 15s - loss: 3.7162 - acc: 0.3385 - val_loss: 1.6357 - val_acc: 0.4500\n",
      "Epoch 2/30\n",
      " - 13s - loss: 1.1962 - acc: 0.5831 - val_loss: 0.6246 - val_acc: 0.7667\n",
      "Epoch 3/30\n",
      " - 13s - loss: 0.6518 - acc: 0.7600 - val_loss: 0.3833 - val_acc: 0.8750\n",
      "Epoch 4/30\n",
      " - 13s - loss: 0.4539 - acc: 0.8401 - val_loss: 0.3097 - val_acc: 0.8917\n",
      "Epoch 5/30\n",
      " - 13s - loss: 0.3584 - acc: 0.8748 - val_loss: 0.2489 - val_acc: 0.9083\n",
      "Epoch 6/30\n",
      " - 13s - loss: 0.2985 - acc: 0.8990 - val_loss: 0.2018 - val_acc: 0.9333\n",
      "Epoch 7/30\n",
      " - 13s - loss: 0.2594 - acc: 0.9123 - val_loss: 0.1867 - val_acc: 0.9333\n",
      "Epoch 8/30\n",
      " - 13s - loss: 0.2195 - acc: 0.9289 - val_loss: 0.1527 - val_acc: 0.9500\n",
      "Epoch 9/30\n",
      " - 13s - loss: 0.1882 - acc: 0.9384 - val_loss: 0.1292 - val_acc: 0.9417\n",
      "Epoch 10/30\n",
      " - 13s - loss: 0.1692 - acc: 0.9459 - val_loss: 0.1196 - val_acc: 0.9500\n",
      "Epoch 11/30\n",
      " - 13s - loss: 0.1508 - acc: 0.9516 - val_loss: 0.0815 - val_acc: 0.9667\n",
      "Epoch 12/30\n",
      " - 13s - loss: 0.1359 - acc: 0.9548 - val_loss: 0.0795 - val_acc: 0.9750\n",
      "Epoch 13/30\n",
      " - 13s - loss: 0.1222 - acc: 0.9614 - val_loss: 0.0706 - val_acc: 0.9750\n",
      "Epoch 14/30\n",
      " - 12s - loss: 0.1147 - acc: 0.9632 - val_loss: 0.0465 - val_acc: 0.9917\n",
      "Epoch 15/30\n",
      " - 13s - loss: 0.1112 - acc: 0.9638 - val_loss: 0.0447 - val_acc: 1.0000\n",
      "Epoch 16/30\n",
      " - 13s - loss: 0.1013 - acc: 0.9669 - val_loss: 0.0602 - val_acc: 0.9667\n",
      "Epoch 17/30\n",
      " - 13s - loss: 0.0973 - acc: 0.9689 - val_loss: 0.0525 - val_acc: 0.9833\n",
      "Epoch 18/30\n",
      " - 13s - loss: 0.0885 - acc: 0.9717 - val_loss: 0.0419 - val_acc: 0.9833\n",
      "Epoch 19/30\n",
      " - 13s - loss: 0.0861 - acc: 0.9740 - val_loss: 0.0470 - val_acc: 0.9833\n",
      "\n",
      "Epoch 00019: ReduceLROnPlateau reducing learning rate to 0.0024999999441206455.\n",
      "Epoch 20/30\n",
      " - 13s - loss: 0.0807 - acc: 0.9746 - val_loss: 0.0389 - val_acc: 0.9917\n",
      "Epoch 21/30\n",
      " - 13s - loss: 0.0751 - acc: 0.9755 - val_loss: 0.0397 - val_acc: 0.9917\n",
      "Epoch 22/30\n",
      " - 13s - loss: 0.0751 - acc: 0.9769 - val_loss: 0.0398 - val_acc: 0.9917\n",
      "\n",
      "Epoch 00022: ReduceLROnPlateau reducing learning rate to 0.0012499999720603228.\n",
      "Epoch 23/30\n",
      " - 13s - loss: 0.0719 - acc: 0.9785 - val_loss: 0.0368 - val_acc: 0.9917\n",
      "Epoch 24/30\n",
      " - 13s - loss: 0.0681 - acc: 0.9792 - val_loss: 0.0373 - val_acc: 0.9917\n",
      "Epoch 25/30\n",
      " - 13s - loss: 0.0676 - acc: 0.9795 - val_loss: 0.0368 - val_acc: 0.9917\n",
      "\n",
      "Epoch 00025: ReduceLROnPlateau reducing learning rate to 0.0006249999860301614.\n",
      "Epoch 26/30\n",
      " - 13s - loss: 0.0684 - acc: 0.9802 - val_loss: 0.0375 - val_acc: 0.9917\n",
      "Epoch 27/30\n",
      " - 13s - loss: 0.0690 - acc: 0.9789 - val_loss: 0.0363 - val_acc: 0.9917\n",
      "Epoch 28/30\n",
      " - 13s - loss: 0.0701 - acc: 0.9786 - val_loss: 0.0361 - val_acc: 0.9917\n",
      "\n",
      "Epoch 00028: ReduceLROnPlateau reducing learning rate to 0.0003124999930150807.\n",
      "Epoch 29/30\n",
      " - 13s - loss: 0.0709 - acc: 0.9790 - val_loss: 0.0371 - val_acc: 0.9917\n",
      "Epoch 30/30\n",
      " - 13s - loss: 0.0685 - acc: 0.9785 - val_loss: 0.0371 - val_acc: 0.9917\n",
      "CPU times: user 8min 58s, sys: 53.2 s, total: 9min 52s\n",
      "Wall time: 6min 24s\n"
     ]
    }
   ],
   "source": [
    "%%time\n",
    "# Fit the model\n",
    "epochs = 30\n",
    "batch_size = 3072 # decrease it if your GPU RAM is less than 8GB\n",
    "\n",
    "history = model.fit_generator(datagen.flow(X_train,Y_train, batch_size=batch_size),\n",
    "                              epochs = epochs, validation_data = (X_test,Y_test),\n",
    "                              verbose = 2, steps_per_epoch = X_train.shape[0] / batch_size * 50, \n",
    "                                callbacks=[learning_rate_reduction])"
   ]
  },
  {
   "cell_type": "code",
   "execution_count": 25,
   "metadata": {
    "_cell_guid": "eb4b1b73-cbd4-40e8-9790-066fcef4c4c0",
    "_execution_state": "idle",
    "_uuid": "3a831860dd5bb65c8ead1ddcf4ae18ae20dd7f3e",
    "scrolled": true
   },
   "outputs": [
    {
     "data": {
      "image/png": "[encoded data removed]",
      "text/plain": [
       "<Figure size 432x288 with 2 Axes>"
      ]
     },
     "metadata": {},
     "output_type": "display_data"
    }
   ],
   "source": [
    "# Plot the loss and accuracy curves for training and validation \n",
    "fig, ax = plt.subplots(2,1)\n",
    "ax[0].plot(history.history['loss'], color='b', label=\"Training loss\")\n",
    "ax[0].plot(history.history['val_loss'], color='r', label=\"validation loss\",axes =ax[0])\n",
    "legend = ax[0].legend(loc='best', shadow=True)\n",
    "\n",
    "ax[1].plot(history.history['acc'], color='b', label=\"Training accuracy\")\n",
    "ax[1].plot(history.history['val_acc'], color='r',label=\"Validation accuracy\")\n",
    "legend = ax[1].legend(loc='best', shadow=True)"
   ]
  },
  {
   "cell_type": "code",
   "execution_count": 26,
   "metadata": {
    "_cell_guid": "11361e73-8250-4bf5-a353-b0f8ea83e659",
    "_execution_state": "idle",
    "_uuid": "16e161179bf1b51ba66c39b2cead883f1db3a9c7"
   },
   "outputs": [
    {
     "data": {
      "image/png": "[encoded data removed]",
      "text/plain": [
       "<Figure size 432x288 with 2 Axes>"
      ]
     },
     "metadata": {},
     "output_type": "display_data"
    }
   ],
   "source": [
    "# Look at confusion matrix \n",
    "\n",
    "def plot_confusion_matrix(cm, classes,\n",
    "                          normalize=False,\n",
    "                          title='Confusion matrix',\n",
    "                          cmap=plt.cm.Blues):\n",
    "    \"\"\"\n",
    "    This function prints and plots the confusion matrix.\n",
    "    Normalization can be applied by setting `normalize=True`.\n",
    "    \"\"\"\n",
    "    plt.imshow(cm, interpolation='nearest', cmap=cmap)\n",
    "    plt.title(title)\n",
    "    plt.colorbar()\n",
    "    tick_marks = np.arange(len(classes))\n",
    "    plt.xticks(tick_marks, classes, rotation=45)\n",
    "    plt.yticks(tick_marks, classes)\n",
    "\n",
    "    if normalize:\n",
    "        cm = cm.astype('float') / cm.sum(axis=1)[:, np.newaxis]\n",
    "\n",
    "    thresh = cm.max() / 2.\n",
    "    for i, j in itertools.product(range(cm.shape[0]), range(cm.shape[1])):\n",
    "        plt.text(j, i, cm[i, j],\n",
    "                 horizontalalignment=\"center\",\n",
    "                 color=\"white\" if cm[i, j] > thresh else \"black\")\n",
    "\n",
    "    plt.tight_layout()\n",
    "    plt.ylabel('True label')\n",
    "    plt.xlabel('Predicted label')\n",
    "\n",
    "# Predict the values from the validation dataset\n",
    "Y_pred = model.predict(X_test)\n",
    "# Convert predictions classes to one hot vectors \n",
    "Y_pred_classes = np.argmax(Y_pred,axis = 1) \n",
    "# Convert validation observations to one hot vectors\n",
    "Y_true = np.argmax(Y_test,axis = 1) \n",
    "# compute the confusion matrix\n",
    "confusion_mtx = confusion_matrix(Y_true, Y_pred_classes) \n",
    "# plot the confusion matrix\n",
    "plot_confusion_matrix(confusion_mtx, classes = range(6)) "
   ]
  },
  {
   "cell_type": "code",
   "execution_count": 27,
   "metadata": {
    "_cell_guid": "7b0f31b8-c18b-4529-b0d8-eb4c31e30bbf",
    "_execution_state": "idle",
    "_uuid": "e7a3d6449b499a29db224e42e950f21ca1ec4e36"
   },
   "outputs": [
    {
     "ename": "IndexError",
     "evalue": "index 1 is out of bounds for axis 0 with size 1",
     "output_type": "error",
     "traceback": [
      "\u001b[0;31m---------------------------------------------------------------------------\u001b[0m",
      "\u001b[0;31mIndexError\u001b[0m                                Traceback (most recent call last)",
      "\u001b[0;32m<ipython-input-27-aa270c48ae03>\u001b[0m in \u001b[0;36m<module>\u001b[0;34m()\u001b[0m\n\u001b[1;32m     38\u001b[0m \u001b[0;34m\u001b[0m\u001b[0m\n\u001b[1;32m     39\u001b[0m \u001b[0;31m# Show the top 6 errors\u001b[0m\u001b[0;34m\u001b[0m\u001b[0;34m\u001b[0m\u001b[0m\n\u001b[0;32m---> 40\u001b[0;31m \u001b[0mdisplay_errors\u001b[0m\u001b[0;34m(\u001b[0m\u001b[0mmost_important_errors\u001b[0m\u001b[0;34m,\u001b[0m \u001b[0mX_test_errors\u001b[0m\u001b[0;34m,\u001b[0m \u001b[0mY_pred_classes_errors\u001b[0m\u001b[0;34m,\u001b[0m \u001b[0mY_true_errors\u001b[0m\u001b[0;34m)\u001b[0m\u001b[0;34m\u001b[0m\u001b[0m\n\u001b[0m",
      "\u001b[0;32m<ipython-input-27-aa270c48ae03>\u001b[0m in \u001b[0;36mdisplay_errors\u001b[0;34m(errors_index, img_errors, pred_errors, obs_errors)\u001b[0m\n\u001b[1;32m     16\u001b[0m     \u001b[0;32mfor\u001b[0m \u001b[0mrow\u001b[0m \u001b[0;32min\u001b[0m \u001b[0mrange\u001b[0m\u001b[0;34m(\u001b[0m\u001b[0mnrows\u001b[0m\u001b[0;34m)\u001b[0m\u001b[0;34m:\u001b[0m\u001b[0;34m\u001b[0m\u001b[0m\n\u001b[1;32m     17\u001b[0m         \u001b[0;32mfor\u001b[0m \u001b[0mcol\u001b[0m \u001b[0;32min\u001b[0m \u001b[0mrange\u001b[0m\u001b[0;34m(\u001b[0m\u001b[0mncols\u001b[0m\u001b[0;34m)\u001b[0m\u001b[0;34m:\u001b[0m\u001b[0;34m\u001b[0m\u001b[0m\n\u001b[0;32m---> 18\u001b[0;31m             \u001b[0merror\u001b[0m \u001b[0;34m=\u001b[0m \u001b[0merrors_index\u001b[0m\u001b[0;34m[\u001b[0m\u001b[0mn\u001b[0m\u001b[0;34m]\u001b[0m\u001b[0;34m\u001b[0m\u001b[0m\n\u001b[0m\u001b[1;32m     19\u001b[0m             \u001b[0mfig\u001b[0m\u001b[0;34m.\u001b[0m\u001b[0mtight_layout\u001b[0m\u001b[0;34m(\u001b[0m\u001b[0;34m)\u001b[0m\u001b[0;34m\u001b[0m\u001b[0m\n\u001b[1;32m     20\u001b[0m             \u001b[0max\u001b[0m\u001b[0;34m[\u001b[0m\u001b[0mrow\u001b[0m\u001b[0;34m,\u001b[0m\u001b[0mcol\u001b[0m\u001b[0;34m]\u001b[0m\u001b[0;34m.\u001b[0m\u001b[0mimshow\u001b[0m\u001b[0;34m(\u001b[0m\u001b[0;34m(\u001b[0m\u001b[0mimg_errors\u001b[0m\u001b[0;34m[\u001b[0m\u001b[0merror\u001b[0m\u001b[0;34m]\u001b[0m\u001b[0;34m)\u001b[0m\u001b[0;34m.\u001b[0m\u001b[0mreshape\u001b[0m\u001b[0;34m(\u001b[0m\u001b[0;34m(\u001b[0m\u001b[0;36m64\u001b[0m\u001b[0;34m,\u001b[0m\u001b[0;36m64\u001b[0m\u001b[0;34m,\u001b[0m\u001b[0;36m3\u001b[0m\u001b[0;34m)\u001b[0m\u001b[0;34m)\u001b[0m\u001b[0;34m)\u001b[0m\u001b[0;34m\u001b[0m\u001b[0m\n",
      "\u001b[0;31mIndexError\u001b[0m: index 1 is out of bounds for axis 0 with size 1"
     ]
    },
    {
     "data": {
      "image/png": "[encoded data removed]",
      "text/plain": [
       "<Figure size 432x288 with 6 Axes>"
      ]
     },
     "metadata": {},
     "output_type": "display_data"
    }
   ],
   "source": [
    "# Display some error results \n",
    "# Errors are difference between predicted labels and true labels\n",
    "errors = (Y_pred_classes - Y_true != 0)\n",
    "\n",
    "Y_pred_classes_errors = Y_pred_classes[errors]\n",
    "Y_pred_errors = Y_pred[errors]\n",
    "Y_true_errors = Y_true[errors]\n",
    "X_test_errors = X_test[errors]\n",
    "\n",
    "def display_errors(errors_index,img_errors,pred_errors, obs_errors):\n",
    "    \"\"\" This function shows 6 images with their predicted and real labels\"\"\"\n",
    "    n = 0\n",
    "    nrows = 2\n",
    "    ncols = 3\n",
    "    fig, ax = plt.subplots(nrows,ncols,sharex=True,sharey=True)\n",
    "    for row in range(nrows):\n",
    "        for col in range(ncols):\n",
    "            error = errors_index[n]\n",
    "            fig.tight_layout()\n",
    "            ax[row,col].imshow((img_errors[error]).reshape((64,64,3)))\n",
    "            ax[row,col].set_title(\"Predicted label :{}\\nTrue label :{}\".format(pred_errors[error],obs_errors[error]))\n",
    "            n += 1\n",
    "\n",
    "# Probabilities of the wrong predicted numbers\n",
    "Y_pred_errors_prob = np.max(Y_pred_errors,axis = 1)\n",
    "\n",
    "# Predicted probabilities of the true values in the error set\n",
    "true_prob_errors = np.diagonal(np.take(Y_pred_errors, Y_true_errors, axis=1))\n",
    "\n",
    "# Difference between the probability of the predicted label and the true label\n",
    "delta_pred_true_errors = Y_pred_errors_prob - true_prob_errors\n",
    "\n",
    "# Sorted list of the delta prob errors\n",
    "sorted_dela_errors = np.argsort(delta_pred_true_errors)\n",
    "\n",
    "# Top 6 errors \n",
    "most_important_errors = sorted_dela_errors[-6:]\n",
    "\n",
    "# Show the top 6 errors\n",
    "display_errors(most_important_errors, X_test_errors, Y_pred_classes_errors, Y_true_errors)"
   ]
  },
  {
   "cell_type": "markdown",
   "metadata": {},
   "source": [
    "**There is index error because we only failed on 1 image! **\n",
    "\n",
    "**Our result is much better than the result from the model builded during the CNN application tutorial of DeepLearning.AI Coursera courses.**"
   ]
  },
  {
   "cell_type": "markdown",
   "metadata": {},
   "source": [
    "<table> \n",
    "<tr>\n",
    "    <td> \n",
    "    **Our Train Accuracy =**\n",
    "    </td>\n",
    "\n",
    "    <td> \n",
    "      0.9790\n",
    "    </td> \n",
    "</tr>\n",
    "<tr>\n",
    "    <td> \n",
    "    **Our Test Accuracy =**\n",
    "    </td>\n",
    "\n",
    "    <td> \n",
    "      0.9917\n",
    "    </td> \n",
    "</tr>\n",
    "<tr>\n",
    "    <td> \n",
    "    **Tutorial Train Accuracy   =**\n",
    "    </td>\n",
    "\n",
    "    <td> \n",
    "      0.9407\n",
    "    </td> \n",
    "</tr> \n",
    "\n",
    "<tr>\n",
    "    <td> \n",
    "    **Tutorial Test Accuracy   =**\n",
    "    </td>\n",
    "\n",
    "    <td> \n",
    "      0.7833\n",
    "    </td> \n",
    "</tr> \n",
    "</table>"
   ]
  }
 ],
 "metadata": {
  "kernelspec": {
   "display_name": "Python 3",
   "language": "python",
   "name": "python3"
  },
  "language_info": {
   "codemirror_mode": {
    "name": "ipython",
    "version": 3
   },
   "file_extension": ".py",
   "mimetype": "text/x-python",
   "name": "python",
   "nbconvert_exporter": "python",
   "pygments_lexer": "ipython3",
   "version": "3.6.5"
  }
 },
 "nbformat": 4,
 "nbformat_minor": 2
}
